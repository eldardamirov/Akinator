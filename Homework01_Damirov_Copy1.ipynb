{
  "nbformat": 4,
  "nbformat_minor": 0,
  "metadata": {
    "kernelspec": {
      "name": "python3",
      "description": "IPython kernel implementation for Yandex DataSphere",
      "spec": {
        "language": "python",
        "display_name": "Yandex DataSphere Kernel",
        "codemirror_mode": "python",
        "argv": [
          "/bin/true"
        ],
        "env": {},
        "help_links": []
      },
      "resources": {},
      "display_name": "Yandex DataSphere Kernel"
    },
    "language_info": {
      "nbconvert_exporter": "python",
      "version": "3.7.7",
      "file_extension": ".py",
      "pygments_lexer": "ipython3",
      "mimetype": "text/x-python",
      "name": "python",
      "codemirror_mode": {
        "name": "ipython",
        "version": 3
      }
    },
    "notebookId": "c6de3d19-2021-4683-8f47-5cacda061980",
    "colab": {
      "name": "Homework01-Damirov-Copy1.ipynb",
      "provenance": [],
      "collapsed_sections": [],
      "include_colab_link": true
    }
  },
  "cells": [
    {
      "cell_type": "markdown",
      "metadata": {
        "id": "view-in-github",
        "colab_type": "text"
      },
      "source": [
        "<a href=\"https://colab.research.google.com/github/eldardamirov/Akinator/blob/master/Homework01_Damirov_Copy1.ipynb\" target=\"_parent\"><img src=\"https://colab.research.google.com/assets/colab-badge.svg\" alt=\"Open In Colab\"/></a>"
      ]
    },
    {
      "cell_type": "markdown",
      "metadata": {
        "cellId": "b7poe7hg5tgxtqpdw3fugn",
        "id": "8YBC7MA4DN88"
      },
      "source": [
        "## Машинное обучение 1, ПМИ ФКН ВШЭ\n",
        "\n",
        "## Практическое домашнее задание 1\n",
        "\n",
        "### Общая информация\n",
        "\n",
        "Дата выдачи: 11.09.2021\n",
        "\n",
        "Мягкий дедлайн: 23:59MSK 25.09.2021\n",
        "\n",
        "Жесткий дедлайн: 23:59MSK 28.09.2021"
      ]
    },
    {
      "cell_type": "markdown",
      "metadata": {
        "cellId": "45jab2v48tt9iz8a0eea9v",
        "id": "Xb_BNQ2jDN9A"
      },
      "source": [
        "### О задании\n",
        "\n",
        "Задание состоит из двух разделов, посвященных работе с табличными данными с помощью библиотеки pandas и визуализации с помощью matplotlib. В первом разделе вам предстоит выполнить базовые задания с помощью вышеуказанных библиотек, а во втором распределить студентов по курсам. Баллы даются за выполнение отдельных пунктов. Задачи в рамках одного раздела рекомендуется решать в том порядке, в котором они даны в задании.\n",
        "\n",
        "Задание направлено на освоение jupyter notebook (будет использоваться в дальнейших заданиях), библиотек pandas и matplotlib.\n",
        "\n",
        "### Оценивание и штрафы\n",
        "Каждая из задач имеет определенную «стоимость» (указана в скобках около задачи). Максимально допустимая оценка за работу — 10 баллов.\n",
        "\n",
        "Сдавать задание после жёсткого дедлайна нельзя. При выставлении неполного балла за задание в связи с наличием ошибок на усмотрение проверяющего предусмотрена возможность исправить работу на указанных в ответном письме условиях.\n",
        "\n",
        "Задание выполняется самостоятельно. «Похожие» решения считаются плагиатом и все задействованные студенты (в том числе те, у кого списали) не могут получить за него больше 0 баллов (подробнее о плагиате см. на странице курса). Если вы нашли решение какого-то из заданий (или его часть) в открытом источнике, необходимо указать ссылку на этот источник (скорее всего вы будете не единственным, кто это нашел, поэтому чтобы исключить подозрение в плагиате, необходима ссылка на источник).\n",
        "\n",
        "### Формат сдачи\n",
        "Задания сдаются через систему Anytask. Инвайт можно получить у семинариста или ассистента. Присылать необходимо ноутбук с выполненным заданием. Сам ноутбук называйте в формате homework-practice-01-pandas-Username.ipynb, где Username — ваша фамилия.\n",
        "\n",
        "Для удобства проверки самостоятельно посчитайте свою максимальную оценку (исходя из набора решенных задач) и укажите ниже.\n",
        "\n",
        "Оценка: xx."
      ]
    },
    {
      "cell_type": "markdown",
      "metadata": {
        "cellId": "mxxeh9xr6yizrczsnslyd",
        "id": "JtwsSvTlDN9B"
      },
      "source": [
        "## 0. Введение"
      ]
    },
    {
      "cell_type": "markdown",
      "metadata": {
        "cellId": "c7b2k2dy6dpbcact3h8i",
        "id": "jC9X90RkDN9B"
      },
      "source": [
        "Сейчас мы находимся в jupyter-ноутбуке (или ipython-ноутбуке). Это удобная среда для написания кода, проведения экспериментов, изучения данных, построения визуализаций и других нужд, не связанных с написанием production-кода. \n",
        "\n",
        "Ноутбук состоит из ячеек, каждая из которых может быть либо ячейкой с кодом, либо ячейкой с текстом размеченным и неразмеченным. Текст поддерживает markdown-разметку и формулы в Latex.\n",
        "\n",
        "Для работы с содержимым ячейки используется *режим редактирования* (*Edit mode*, включается нажатием клавиши **Enter** после выбора ячейки), а для навигации между ячейками искользуется *командный режим* (*Command mode*, включается нажатием клавиши **Esc**). Тип ячейки можно задать в командном режиме либо с помощью горячих клавиш (**y** to code, **m** to markdown, **r** to edit raw text), либо в меню *Cell -> Cell type*. \n",
        "\n",
        "После заполнения ячейки нужно нажать *Shift + Enter*, эта команда обработает содержимое ячейки: проинтерпретирует код или сверстает размеченный текст."
      ]
    },
    {
      "cell_type": "code",
      "metadata": {
        "cellId": "yf9krncsqtntpth0latkzd",
        "colab": {
          "base_uri": "https://localhost:8080/"
        },
        "id": "1wwTgDTLDN9C",
        "outputId": "6b0b9918-91a6-4d01-a1fa-3297db99d12c"
      },
      "source": [
        "# ячейка с кодом, при выполнении которой появится output\n",
        "2 + 2"
      ],
      "execution_count": 78,
      "outputs": [
        {
          "output_type": "execute_result",
          "data": {
            "text/plain": [
              "4"
            ]
          },
          "metadata": {},
          "execution_count": 78
        }
      ]
    },
    {
      "cell_type": "markdown",
      "metadata": {
        "cellId": "30pdaow66ssc6oa8z5fsw",
        "id": "l52aoSKjDN9D"
      },
      "source": [
        "Ячейка с неразмеченыным текстом."
      ]
    },
    {
      "cell_type": "markdown",
      "metadata": {
        "cellId": "4xv9gyj4pwx9odbnsok38v",
        "id": "c-uSl30mDN9E"
      },
      "source": [
        "Попробуйте создать свои ячейки, написать какой-нибудь код и текст какой-нибудь формулой."
      ]
    },
    {
      "cell_type": "code",
      "metadata": {
        "cellId": "i833sspvo3h7e1799mbaj5",
        "colab": {
          "base_uri": "https://localhost:8080/"
        },
        "id": "BKXNGgU4DN9E",
        "outputId": "5ed84a09-5042-46bd-ef62-2dda76fdc5ce"
      },
      "source": [
        "# Этот cell построил Джек\n",
        "print('hey, ML-1!')"
      ],
      "execution_count": 79,
      "outputs": [
        {
          "output_type": "stream",
          "name": "stdout",
          "text": [
            "hey, ML-1!\n"
          ]
        }
      ]
    },
    {
      "cell_type": "code",
      "metadata": {
        "cellId": "balgf7cbqh8eio96u73xm",
        "colab": {
          "base_uri": "https://localhost:8080/"
        },
        "id": "3z4NZ3EUDN9F",
        "outputId": "bc3456d2-63d3-49ab-b125-90e3b5a0cc3d"
      },
      "source": [
        "# И этот cell построил Джек\n",
        "from time import sleep\n",
        "%time\n",
        "print('What time is it?')"
      ],
      "execution_count": 80,
      "outputs": [
        {
          "output_type": "stream",
          "name": "stdout",
          "text": [
            "CPU times: user 4 µs, sys: 0 ns, total: 4 µs\n",
            "Wall time: 8.34 µs\n",
            "What time is it?\n"
          ]
        }
      ]
    },
    {
      "cell_type": "markdown",
      "metadata": {
        "cellId": "7us0g3bkd2hvn8kmt513",
        "id": "-UTNvO66DN9F"
      },
      "source": [
        "[Здесь](https://athena.brynmawr.edu/jupyter/hub/dblank/public/Jupyter%20Notebook%20Users%20Manual.ipynb) находится <s>не</s>большая заметка о используемом языке разметки Markdown. Он позволяет:\n",
        "\n",
        "0. Составлять упорядоченные списки\n",
        "1. Выделять *текст* <s>при</s> **необходимости**\n",
        "2. Добавлять [ссылки](http://imgs.xkcd.com/comics/the_universal_label.png)\n",
        "\n",
        "\n",
        "* Составлять неупорядоченные списки\n",
        "\n",
        "Делать вставки с помощью LaTex:\n",
        "    \n",
        "$\n",
        "\\left\\{\n",
        "\\begin{array}{ll}\n",
        "x = 16 \\sin^3 (t) \\\\ \n",
        "y = 13 \\cos (t) - 5 \\cos (2t) - 2 \\cos (3t) - \\cos (4t) \\\\\n",
        "t \\in [0, 2 \\pi]\n",
        "\\end{array}\n",
        "\\right.$"
      ]
    },
    {
      "cell_type": "markdown",
      "metadata": {
        "cellId": "irkt6ddacokyx23edyz7ag",
        "id": "9j1v8d4bDN9F"
      },
      "source": [
        "А ещё можно вставлять картинки, или гифки, или что захотите:\n",
        "\n",
        "<img src=\"https://media1.tenor.com/images/9b8fbe9214504bcf6c60fe4e4f7e114e/tenor.gif?itemid=5416416\" style=\"width: 400px\">"
      ]
    },
    {
      "cell_type": "markdown",
      "metadata": {
        "cellId": "16voyyisrnsj9h12fl1it2r",
        "id": "-sJjUzOHDN9G"
      },
      "source": [
        "### Google Colab"
      ]
    },
    {
      "cell_type": "markdown",
      "metadata": {
        "cellId": "9ekcp4wfduq9ge7teo5nob",
        "id": "bEJc8QmrDN9G"
      },
      "source": [
        "Что за колаб? \n",
        "\n",
        "**Google Colab (Colaboratory)** это **Jupyter Notebook + Cloud + Google Drive.**\n",
        "\n",
        "Компания Google предоставляет возможность бесплатно запускать ноутбуки (предварительно загрузив их на свой гугл-диск) прямо в облаке. При этом вам не требуется установка никаких пакетов на свою машину, а работать можно прямиком из браузера. Вот ссылка:"
      ]
    },
    {
      "cell_type": "markdown",
      "metadata": {
        "cellId": "d2jo30kowybedapka195f",
        "id": "HnUlg-21DN9G"
      },
      "source": [
        "https://colab.research.google.com"
      ]
    },
    {
      "cell_type": "markdown",
      "metadata": {
        "cellId": "99mdiuik0dp524k254421w",
        "id": "xf86_BTEDN9H"
      },
      "source": [
        "При использовании вы увидете много сходств с jupyter ноутбуком. Одним из преимуществ является доступность GPU, соответствующую опцию можно активировать в настройках сервиса. При желании вы сможете найти в интернете много туториалов по использованию или разобраться самостоятельно =)"
      ]
    },
    {
      "cell_type": "markdown",
      "metadata": {
        "cellId": "d3f74wspfxtbh5sbfqkrwr",
        "id": "Pd6UVqnqDN9H"
      },
      "source": [
        "## 1. Табличные данные и Pandas"
      ]
    },
    {
      "cell_type": "markdown",
      "metadata": {
        "cellId": "cr00lnbcmirflesruzi",
        "id": "YtrbSj49DN9H"
      },
      "source": [
        "Pandas — удобная библиотека для работы с табличными данными в Python, если данных не слишком много и они помещаются в оперативную память вашего компьютера. Несмотря на неэффективность реализации и некоторые проблемы, библиотека стала стандартом в анализе данных.\n",
        "\n",
        "Основной объект в pandas — это DataFrame, представляющий собой таблицу с именованными колонками различных типов, индексом (может быть многоуровневым). DataFrame можно создавать, считывая таблицу из файла или задавая вручную из других объектов.\n",
        "\n",
        "В этой части потребуется выполнить несколько небольших заданий. Можно пойти двумя путями: сначала изучить материалы, а потом приступить к заданиям, или же разбираться \"по ходу\". Выбирайте сами.\n",
        "\n",
        "Материалы:\n",
        "1. [Pandas за 10 минут из официального руководства](http://pandas.pydata.org/pandas-docs/stable/10min.html)\n",
        "2. [Документация](http://pandas.pydata.org/pandas-docs/stable/index.html) (стоит обращаться, если не понятно, как вызывать конкретный метод)\n",
        "3. [Примеры использования функционала](http://nbviewer.jupyter.org/github/justmarkham/pandas-videos/blob/master/pandas.ipynb)\n",
        "\n",
        "Многие из заданий можно выполнить несколькими способами. Не существуют единственно верного, но попробуйте максимально задействовать арсенал pandas и ориентируйтесь на простоту и понятность вашего кода. Мы не будем подсказывать, что нужно использовать для решения конкретной задачи, попробуйте находить необходимый функционал сами (название метода чаще всего очевидно). В помощь вам документация, поиск и stackoverflow."
      ]
    },
    {
      "cell_type": "code",
      "metadata": {
        "cellId": "9raxtxuqid9afye1w4hrl",
        "colab": {
          "base_uri": "https://localhost:8080/"
        },
        "id": "cFAn7hj7DN9I",
        "outputId": "e89f2b45-2748-49ae-d437-80673e5ebe30"
      },
      "source": [
        "#!c1.8\n",
        "%pylab inline\n",
        "import pandas as pd"
      ],
      "execution_count": 81,
      "outputs": [
        {
          "output_type": "stream",
          "name": "stdout",
          "text": [
            "Populating the interactive namespace from numpy and matplotlib\n"
          ]
        },
        {
          "output_type": "stream",
          "name": "stderr",
          "text": [
            "/usr/local/lib/python3.7/dist-packages/IPython/core/magics/pylab.py:161: UserWarning: pylab import has clobbered these variables: ['spring']\n",
            "`%matplotlib` prevents importing * from pylab and numpy\n",
            "  \"\\n`%matplotlib` prevents importing * from pylab and numpy\"\n"
          ]
        }
      ]
    },
    {
      "cell_type": "markdown",
      "metadata": {
        "cellId": "ok9mhgfno5eqs9wkuiuu8d",
        "id": "tHHZYIAzDN9I"
      },
      "source": [
        "Скачаем данные:"
      ]
    },
    {
      "cell_type": "code",
      "metadata": {
        "cellId": "32wf3zal151w527dcxgrlr",
        "id": "JIkxrRmyDN9J"
      },
      "source": [
        "#!c1.8\n",
        "!wget  -O 'end_seminar.xlsx' -q 'https://www.dropbox.com/s/f4rm8sjc3v99p0m/_end_seminar.xlsx?dl=0'"
      ],
      "execution_count": 82,
      "outputs": []
    },
    {
      "cell_type": "markdown",
      "metadata": {
        "cellId": "kwdsgjbzmk5ezsanlktw5",
        "id": "_GhbVPGUDN9J"
      },
      "source": [
        "Для пользователей Windows: скачайте файл самостоятельно и поместите его в папку с тетрадкой. Или попробуйте один из следующих вариантов:"
      ]
    },
    {
      "cell_type": "code",
      "metadata": {
        "cellId": "9d74h9m46rlqceh2wk1r9c",
        "id": "MvofTyBkDN9J"
      },
      "source": [
        "# !powershell iwr -outf somefile https://somesite/somefile"
      ],
      "execution_count": 83,
      "outputs": []
    },
    {
      "cell_type": "code",
      "metadata": {
        "cellId": "at0crnmr6elieqzg99v9v",
        "id": "X1ZIEwLDDN9J"
      },
      "source": [
        "# !pip install wget\n",
        "# import wget \n",
        "# wget.download('https://dropbox.com/s/f4rm8sjc3v99p0m/_end_seminar.xlsx?dl=1', 'end_seminar.xlsx')"
      ],
      "execution_count": 84,
      "outputs": []
    },
    {
      "cell_type": "markdown",
      "metadata": {
        "cellId": "thqnsu398kkv60k312yzg",
        "id": "RLGMhHVnDN9K"
      },
      "source": [
        "##### В первой части задания (до раздела \"Распределение студентов по курсам\") использование циклов запрещается и повлечет за собой снижение оценки. Использование <code>vectorize</code> и  <code>apply</code>, <code>apply_along_axis</code> крайне нежелательно."
      ]
    },
    {
      "cell_type": "markdown",
      "metadata": {
        "cellId": "vaywg06xfyjefw0kksuul",
        "id": "RiS2O3D0DN9K"
      },
      "source": [
        "Для каждой задачи из этого раздела вы должны написать код для получения ответа, а также дать текстовый ответ, если он предполагается.\n",
        "\n",
        "На некоторые вопросы вы можете получить путём пристального взгляда на таблицу, но это не будет засчитываться. Вы в любом случае должны получить ответ с помощью кода."
      ]
    },
    {
      "cell_type": "markdown",
      "metadata": {
        "cellId": "osyshb75o7ckvre4ejsax",
        "id": "7694ZvvgDN9K"
      },
      "source": [
        "#### 1. [0 баллов] Откройте файл с таблицей (не забудьте про её формат). Выведите последние 10 строк.\n",
        "\n",
        "Посмотрите на данные и скажите, что они из себя представляют, сколько в таблице строк, какие столбцы? (на это не надо отвечать, просто подумайте об этом)"
      ]
    },
    {
      "cell_type": "code",
      "metadata": {
        "cellId": "yycs240ztkkt90hwua3x",
        "id": "bdaEhR2bDN9K"
      },
      "source": [
        "\n",
        "#!c1.8\n",
        "# %pip install xlrd==1.2.0"
      ],
      "execution_count": 85,
      "outputs": []
    },
    {
      "cell_type": "code",
      "metadata": {
        "cellId": "avd7ydk2p8o8l74qph6d4m",
        "colab": {
          "base_uri": "https://localhost:8080/"
        },
        "id": "Bnfy4sxYDN9L",
        "outputId": "56465d6a-8f54-4814-d988-7869367305b2"
      },
      "source": [
        "filename = 'end_seminar.xlsx'\n",
        "df = pd.read_excel(filename)\n",
        "\n",
        "print(df.describe())\n",
        "print(df)\n",
        "print(df.dtypes)"
      ],
      "execution_count": 86,
      "outputs": [
        {
          "output_type": "stream",
          "name": "stdout",
          "text": [
            "            rating    18_group  is_mi  percentile    17_group  is_ml_student\n",
            "count   361.000000  223.000000   18.0  361.000000  138.000000           57.0\n",
            "mean    833.346260  184.520179    1.0    0.497230  173.355072            1.0\n",
            "std     266.665103    2.271701    0.0    0.289071    1.795374            0.0\n",
            "min     495.000000  181.000000    1.0    0.000000  171.000000            1.0\n",
            "25%     613.000000  183.000000    1.0    0.246637  172.000000            1.0\n",
            "50%     697.000000  185.000000    1.0    0.497758  173.000000            1.0\n",
            "75%    1111.000000  187.000000    1.0    0.746377  175.000000            1.0\n",
            "max    1457.000000  188.000000    1.0    0.995516  177.000000            1.0\n",
            "                  timestamp  ... is_ml_student\n",
            "0   2020-05-15 01:12:50.543  ...           NaN\n",
            "1   2020-05-15 02:46:48.066  ...           NaN\n",
            "2   2020-05-15 03:12:41.480  ...           NaN\n",
            "3   2020-05-15 04:43:08.994  ...           NaN\n",
            "4   2020-05-15 07:47:17.197  ...           NaN\n",
            "..                      ...  ...           ...\n",
            "356 2020-05-19 19:04:17.873  ...           NaN\n",
            "357 2020-05-19 20:19:25.815  ...           NaN\n",
            "358 2020-05-20 11:54:38.318  ...           NaN\n",
            "359 2020-05-23 21:16:40.916  ...           NaN\n",
            "360 2020-05-23 21:16:40.916  ...           NaN\n",
            "\n",
            "[361 rows x 16 columns]\n",
            "timestamp        datetime64[ns]\n",
            "id                       object\n",
            "rating                    int64\n",
            "18_group                float64\n",
            "is_mi                   float64\n",
            "fall_1                   object\n",
            "fall_2                   object\n",
            "fall_3                   object\n",
            "spring_1                 object\n",
            "spring_2                 object\n",
            "spring_3                 object\n",
            "is_first_time            object\n",
            "percentile              float64\n",
            "17_group                float64\n",
            "blended                  object\n",
            "is_ml_student           float64\n",
            "dtype: object\n"
          ]
        }
      ]
    },
    {
      "cell_type": "markdown",
      "metadata": {
        "cellId": "rln1deocfdhnt8ipjqev3d",
        "id": "kclUOzltDN9L"
      },
      "source": [
        "#### 2. [0.5 балла] Ответьте на вопросы:\n",
        "1. Сколько было заявок из групп 18-го года набора, а сколько из групп 17-го года?\n",
        "2. Есть ли студенты с равными перцентилями?"
      ]
    },
    {
      "cell_type": "code",
      "metadata": {
        "cellId": "cb1u9kzh0cmcj04kq5tqcu",
        "colab": {
          "base_uri": "https://localhost:8080/"
        },
        "id": "L0VUl_WADN9L",
        "outputId": "ddcb9ab8-47db-48c8-b785-6f97057a3721"
      },
      "source": [
        "group_18_reqs_qnt = df['18_group'].count()\n",
        "group_17_reqs_qnt = df['17_group'].count()\n",
        "print(f'Заявок из групп 18ого года набора: {group_18_reqs_qnt}, 17ого года набора: {group_17_reqs_qnt}')"
      ],
      "execution_count": 87,
      "outputs": [
        {
          "output_type": "stream",
          "name": "stdout",
          "text": [
            "Заявок из групп 18ого года набора: 223, 17ого года набора: 138\n"
          ]
        }
      ]
    },
    {
      "cell_type": "code",
      "metadata": {
        "colab": {
          "base_uri": "https://localhost:8080/"
        },
        "id": "fkqRJ-rAEkuK",
        "outputId": "3ad0e8aa-799f-4460-8192-931fc87075d9"
      },
      "source": [
        "# посчитаем кол-во различных студентов (id) и кол-во различных перценителей, если разл. перцентилей меньше чем студентов — есть студенты с равным перцентилем\n",
        "students_qnt = len(df['id'].unique())\n",
        "percs_qnt = len(df['percentile'].unique())\n",
        "print(f'Всего студентов {students_qnt}, различных перцентилей: {percs_qnt}')"
      ],
      "execution_count": 88,
      "outputs": [
        {
          "output_type": "stream",
          "name": "stdout",
          "text": [
            "Всего студентов 347, различных перцентилей: 346\n"
          ]
        }
      ]
    },
    {
      "cell_type": "markdown",
      "metadata": {
        "id": "HZeF8tYeFrkY"
      },
      "source": [
        "347 > 346 - то есть студенты с равными перцентилями существуют"
      ]
    },
    {
      "cell_type": "markdown",
      "metadata": {
        "cellId": "ok989n3xkhqh3cndyfavh7",
        "id": "lZkiYbCxDN9M"
      },
      "source": [
        "#### 3. [0.5 балла] Есть ли в данных пропуски? В каких колонках? Сколько их в каждой из этих колонок?"
      ]
    },
    {
      "cell_type": "code",
      "metadata": {
        "cellId": "li1spo58ztz34kd8otyy",
        "colab": {
          "base_uri": "https://localhost:8080/"
        },
        "id": "a1j0dfQPDN9M",
        "outputId": "00f25e93-59d8-4240-82b8-2713d167b367"
      },
      "source": [
        "blank_cells = df.isnull()\n",
        "blank_cells_qnt = blank_cells.sum(axis=0) \n",
        "print(blank_cells_qnt)"
      ],
      "execution_count": 89,
      "outputs": [
        {
          "output_type": "stream",
          "name": "stdout",
          "text": [
            "timestamp          0\n",
            "id                 0\n",
            "rating             0\n",
            "18_group         138\n",
            "is_mi            343\n",
            "fall_1             0\n",
            "fall_2             0\n",
            "fall_3             0\n",
            "spring_1           0\n",
            "spring_2           0\n",
            "spring_3           0\n",
            "is_first_time      2\n",
            "percentile         0\n",
            "17_group         223\n",
            "blended          223\n",
            "is_ml_student    304\n",
            "dtype: int64\n"
          ]
        }
      ]
    },
    {
      "cell_type": "markdown",
      "metadata": {
        "cellId": "z67usdzcl7idkoksra7pj",
        "id": "D6po6f3kDN9M"
      },
      "source": [
        "Заполните пропуски пустой строкой для строковых колонок и нулём для числовых."
      ]
    },
    {
      "cell_type": "code",
      "metadata": {
        "cellId": "f4ylruuhistoovpmpxex9i",
        "id": "TfrTeLTxDN9N"
      },
      "source": [
        "# выделим строковые и числовые колонки (тут можно было и через isinstance_of выделять стринги, но через object тоже ок)\n",
        "# df['17_group'] = df['17_group'].astype(int)\n",
        "\n",
        "number_type_columns, string_type_columns = df.select_dtypes(include=['float64', 'int']).columns, df.select_dtypes(include='object').columns\n",
        "df[string_type_columns] = df[string_type_columns].fillna('')\n",
        "df[number_type_columns] = df[number_type_columns].fillna(0)"
      ],
      "execution_count": 90,
      "outputs": []
    },
    {
      "cell_type": "code",
      "metadata": {
        "colab": {
          "base_uri": "https://localhost:8080/"
        },
        "id": "4ALcyrk3IaEK",
        "outputId": "1739e641-a601-4034-fa2d-181bfcb60a66"
      },
      "source": [
        "# реально все убрали, ✅\n",
        "df.isnull().sum().sum()"
      ],
      "execution_count": 91,
      "outputs": [
        {
          "output_type": "execute_result",
          "data": {
            "text/plain": [
              "0"
            ]
          },
          "metadata": {},
          "execution_count": 91
        }
      ]
    },
    {
      "cell_type": "markdown",
      "metadata": {
        "cellId": "mnrfwgs1y7dltmfhfsggl",
        "id": "B7K1UIDODN9O"
      },
      "source": [
        "#### 4. [0.5 балла] Посмотрите повнимательнее на колонку 'is_first_time'. \n",
        "\n",
        "Есть ли в ней ответы \"Нет\"? Сколько их?\n",
        "\n",
        "Если вы найдете повторные обращения студентов, оставьте только самую позднюю версию. <i>Обращения со значением \"Нет\" в <code>is_first_time</code> могут быть как повторными, так и первичными, поскольку поле заполняли сами студенты.</i>"
      ]
    },
    {
      "cell_type": "code",
      "metadata": {
        "cellId": "buuif64wuc4w5hvfifwz3",
        "colab": {
          "base_uri": "https://localhost:8080/"
        },
        "id": "jEJZtk71DN9P",
        "outputId": "2752878c-5402-4f17-d5ef-5753af98381a"
      },
      "source": [
        "# посчитаем количество ответов \"Нет\": (здесь есть куча способов, можно через value_counts еще например)\n",
        "print(f'\"Нет-ов\" {len(df[df[\"is_first_time\"] == \"Нет\"])} штука')"
      ],
      "execution_count": 92,
      "outputs": [
        {
          "output_type": "stream",
          "name": "stdout",
          "text": [
            "\"Нет-ов\" 51 штука\n"
          ]
        }
      ]
    },
    {
      "cell_type": "code",
      "metadata": {
        "id": "qLxk-eo4LhP8"
      },
      "source": [
        "# чтобы оставить последние обращения, посортим на ts и удалим все до самого последнего: можно было либо сгруппировать по студентам их обращения\n",
        "# и внутри группы удалить все кроме последнего по ts обращения; либо, как мы сейчас: заюзаем готовые методы pd\n",
        "\n",
        "df = df.sort_values(by='timestamp') # посортили по ts, по дефолту - ascending - то что нам и нужнл\n",
        "df = df.drop_duplicates('id', keep='last')"
      ],
      "execution_count": 93,
      "outputs": []
    },
    {
      "cell_type": "markdown",
      "metadata": {
        "cellId": "hpx52n1yu2hnnx1nw6fm99",
        "id": "gR374qyrDN9Q"
      },
      "source": [
        "#### 5. [0.5 балла] Какие  blended-курсы для четверокурсников существуют? На какой blended-курс записалось наибольшее количество студентов? На каком из курсов собрались студенты с самым высоким средним рейтингом? "
      ]
    },
    {
      "cell_type": "code",
      "metadata": {
        "cellId": "jnn9uyn9xnpqps1s7nzak",
        "colab": {
          "base_uri": "https://localhost:8080/"
        },
        "id": "gHIJ274kDN9Q",
        "outputId": "91531aa2-1148-4223-a4d2-0b5f260fe25c"
      },
      "source": [
        "# посмотрим какие курсы существуют для 4-курсников:\n",
        "blended_courses_4th_course_accble = df[df['17_group'] > 0]['blended'].unique()\n",
        "print(f'Для 4курсников сущ. след. blended курсы: {blended_courses_4th_course_accble}')"
      ],
      "execution_count": 94,
      "outputs": [
        {
          "output_type": "stream",
          "name": "stdout",
          "text": [
            "Для 4курсников сущ. след. blended курсы: ['DevOps' 'Введение в дифференциальную геометрию'\n",
            " 'Соревновательный анализ данных']\n"
          ]
        }
      ]
    },
    {
      "cell_type": "code",
      "metadata": {
        "colab": {
          "base_uri": "https://localhost:8080/"
        },
        "id": "S1jPVTlfQ8BP",
        "outputId": "dfaaff60-dd4e-43a5-8934-d8c57eefc9c7"
      },
      "source": [
        "blednded_accs_for_4th = df[df['17_group'] > 0]\n",
        "print(f\"Распределение студентов по курсам: {blednded_accs_for_4th.groupby('blended')['id'].nunique()}\")\n",
        "print(f\"[ответ] Больше всего на: {blednded_accs_for_4th.groupby('blended')['id'].nunique().idxmax()}\")"
      ],
      "execution_count": 95,
      "outputs": [
        {
          "output_type": "stream",
          "name": "stdout",
          "text": [
            "Распределение студентов по курсам: blended\n",
            "DevOps                                   87\n",
            "Введение в дифференциальную геометрию    15\n",
            "Соревновательный анализ данных           32\n",
            "Name: id, dtype: int64\n",
            "[ответ] Больше всего на: DevOps\n"
          ]
        }
      ]
    },
    {
      "cell_type": "code",
      "metadata": {
        "colab": {
          "base_uri": "https://localhost:8080/"
        },
        "id": "YpwzEWBET8OH",
        "outputId": "5906665f-abbc-4adf-cf5e-04203560757b"
      },
      "source": [
        "mean_rate_by_blended_course = blednded_accs_for_4th.groupby('blended')['rating'].mean()\n",
        "print(f'Студенты с самым высоким рейтингом собрались на: {mean_rate_by_blended_course.idxmax()}')"
      ],
      "execution_count": 96,
      "outputs": [
        {
          "output_type": "stream",
          "name": "stdout",
          "text": [
            "Студенты с самым высоким рейтингом собрались на: Введение в дифференциальную геометрию\n"
          ]
        }
      ]
    },
    {
      "cell_type": "markdown",
      "metadata": {
        "cellId": "uy4rji77vps6p8bobqbl97",
        "id": "r0ppE4voDN9R"
      },
      "source": [
        "#### 6. [1 балл] Выясните, есть ли в данных студенты с абсолютно одинаковыми предпочтениями по всем курсам (не забудьте учесть blended-курсы для четверокурсников). Сколько таких наборов, которые взяли несколько студентов? Выведите их все вместе с количеством выбравших их студентов.\n",
        "\n",
        "<i>Предпочтения двух студентов считаются абсолютно одинаковыми, если выбранные ими дисциплины имеют одинаковый приоритет.</i>"
      ]
    },
    {
      "cell_type": "code",
      "metadata": {
        "cellId": "ifqihnp1fjml2zu38li2q",
        "colab": {
          "base_uri": "https://localhost:8080/"
        },
        "id": "kA-BR0ORDN9R",
        "outputId": "1eaebf98-73a7-4959-8a5e-995f8785d6a0"
      },
      "source": [
        "counted_unique_course_sets = df[['blended', 'fall_1', 'fall_2', 'fall_3', 'spring_1', 'spring_2', 'spring_3']].value_counts()\n",
        "print(f'У {counted_unique_course_sets[counted_unique_course_sets > 1].sum()} студентов одинаковые предпочтения')\n",
        "print(f'{counted_unique_course_sets[counted_unique_course_sets > 1].count()} наборов курсов, которые взяли несколько студентов')\n",
        "print(counted_unique_course_sets[counted_unique_course_sets > 1])"
      ],
      "execution_count": 97,
      "outputs": [
        {
          "output_type": "stream",
          "name": "stdout",
          "text": [
            "У 32 студентов одинаковые предпочтения\n",
            "15 наборов курсов, которые взяли несколько студентов\n",
            "blended  fall_1                                           fall_2                                           fall_3                                           spring_1                                                spring_2                                     spring_3                                   \n",
            "         Безопасность компьютерных систем                 Высокопроизводительные вычисления                Язык SQL                                         Компьютерные сети                                       Промышленное программирование на языке Java  Дискретная оптимизация                         3\n",
            "                                                          Statistical Learning Theory                      Матричные вычисления                             Дискретная оптимизация                                  Промышленное программирование на языке Java  Дополнительные главы прикладной статистики     3\n",
            "         Сбор и обработка данных с помощью краудсорсинга  Язык SQL                                         Теория баз данных                                Промышленное программирование на языке Java             Машинное обучение 2                          Компьютерные сети                              2\n",
            "DevOps   Высокопроизводительные вычисления                Сбор и обработка данных с помощью краудсорсинга  Моделирование временных рядов                    Проектирование и разработка высоконагруженных сервисов  Методы сжатия и передачи медиаданных         Методы сжатия и передачи медиаданных           2\n",
            "         Байесовские методы машинного обучения            Анализ неструктурированных данных                Глубинное обучение в обработке звука             Обучение с подкреплением                                Генеративные модели в машинном обучении      Компьютерное зрение                            2\n",
            "                                                                                                           Сбор и обработка данных с помощью краудсорсинга  Обучение с подкреплением                                Компьютерное зрение                          Генеративные модели в машинном обучении        2\n",
            "         Безопасность компьютерных систем                 Сбор и обработка данных с помощью краудсорсинга  Матричные вычисления                             Компьютерные сети                                       Промышленное программирование на языке Java  Анализ данных в бизнесе                        2\n",
            "                                                          Теория баз данных                                Язык SQL                                         Машинное обучение 2                                     Компьютерные сети                            Промышленное программирование на языке Java    2\n",
            "DevOps   Высокопроизводительные вычисления                Безопасность компьютерных систем                 Сбор и обработка данных с помощью краудсорсинга  Проектирование и разработка высоконагруженных сервисов  Методы сжатия и передачи медиаданных         Компьютерное зрение                            2\n",
            "         Моделирование временных рядов                    Сбор и обработка данных с помощью краудсорсинга  Безопасность компьютерных систем                 Компьютерные сети                                       Дополнительные главы прикладной статистики   Системы баз данных                             2\n",
            "         Безопасность компьютерных систем                 Высокопроизводительные вычисления                Язык SQL                                         Промышленное программирование на языке Java             Компьютерные сети                            Системы баз данных                             2\n",
            "                                                          Матричные вычисления                             Моделирование временных рядов                    Промышленное программирование на языке Java             Компьютерные сети                            Дискретная оптимизация                         2\n",
            "DevOps   Безопасность компьютерных систем                 Высокопроизводительные вычисления                Анализ неструктурированных данных                Проектирование и разработка высоконагруженных сервисов  Методы сжатия и передачи медиаданных         Конфликты и кооперация                         2\n",
            "         Statistical Learning Theory                      Анализ неструктурированных данных                Сбор и обработка данных с помощью краудсорсинга  Обучение с подкреплением                                Конфликты и кооперация                       Компьютерное зрение                            2\n",
            "         Язык SQL                                         Высокопроизводительные вычисления                Теория баз данных                                Компьютерные сети                                       Промышленное программирование на языке Java  Дискретная оптимизация                         2\n",
            "dtype: int64\n"
          ]
        }
      ]
    },
    {
      "cell_type": "markdown",
      "metadata": {
        "cellId": "p841xyl4g6knfh8epgi9",
        "id": "A62F08DxDN9R"
      },
      "source": [
        "#### 7. [0.5 балла] Найдите курсы по выбору, на которые записывались как студенты 18-го года набора, так и студенты 17-го года."
      ]
    },
    {
      "cell_type": "code",
      "metadata": {
        "id": "C4NK2X3AVlsM"
      },
      "source": [
        ""
      ],
      "execution_count": 20,
      "outputs": []
    },
    {
      "cell_type": "markdown",
      "metadata": {
        "cellId": "78bz2u43aaohsnzb36w6lj",
        "id": "RD-DH6bdDN9S"
      },
      "source": [
        "Методом исключения найдите курсы, которые предлагались только студентам 18-го года и только студентам 17-го года."
      ]
    },
    {
      "cell_type": "code",
      "metadata": {
        "cellId": "kyjxx7g2765ipjmaqxdx",
        "id": "Ow9wPksLDN9T"
      },
      "source": [
        "# your code"
      ],
      "execution_count": 21,
      "outputs": []
    },
    {
      "cell_type": "markdown",
      "metadata": {
        "cellId": "0kf36tqq4tjgnijnq2724k",
        "id": "pV7FfE1sDN9T"
      },
      "source": [
        "### Визуализации и matplotlib"
      ]
    },
    {
      "cell_type": "markdown",
      "metadata": {
        "cellId": "3ks7zqhh8kezly3b72x8wh",
        "id": "wDjoN-YlDN9T"
      },
      "source": [
        "При работе с данными часто неудобно делать какие-то выводы, если смотреть на таблицу и числа в частности, поэтому важно уметь визуализировать данные. Здесь будут описаны ключевые правила оформления графиков для **всех** домашних заданий.\n",
        "\n",
        "У matplotlib, конечно же, есть [документация](https://matplotlib.org/users/index.html) с большим количеством [примеров](https://matplotlib.org/examples/), но для начала достаточно знать про несколько основных типов графиков:\n",
        "- plot — обычный поточечный график, которым можно изображать кривые или отдельные точки;\n",
        "- hist — гистограмма, показывающая распределение некоторой величины;\n",
        "- scatter — график, показывающий взаимосвязь двух величин;\n",
        "- bar — столбцовый график, показывающий взаимосвязь количественной величины от категориальной.\n",
        "\n",
        "В этом задании вы попробуете построить один из них. Не забывайте про базовые принципы построения приличных графиков:\n",
        "- оси должны быть подписаны, причём не слишком мелко;\n",
        "- у графика должно быть название;\n",
        "- если изображено несколько графиков, то необходима поясняющая легенда;\n",
        "- все линии на графиках должны быть чётко видны (нет похожих цветов или цветов, сливающихся с фоном);\n",
        "- если отображена величина, имеющая очевидный диапазон значений (например, проценты могут быть от 0 до 100), то желательно масштабировать ось на весь диапазон значений (исключением является случай, когда вам необходимо показать малое отличие, которое незаметно в таких масштабах);\n",
        "- сетка на графике помогает оценить значения в точках на глаз, это обычно полезно, поэтому лучше ее отрисовывать;\n",
        "- если распределение на гистограмме имеет тяжёлые хвосты, лучше использовать логарифмическую шкалу.\n",
        "\n",
        "Полезные строчки:\n",
        "- для красивой картинки <code>%config InlineBackend.figure_format = 'retina'</code>\n",
        "- задаем размер (почти) всех графиков (можно выбрать другие значения) <code>plt.rcParams['figure.figsize'] = 8, 5</code>\n",
        "- размер шрифта подписей графиков <code>plt.rcParams['font.size'] = 12</code>\n",
        "- формат в котором сохраняется изображение <code>mpl.rcParams['savefig.format'] = 'pdf'</code>\n",
        "- sns – seaborn, добавляет решетку <code>sns.set_style('darkgrid')</code>"
      ]
    },
    {
      "cell_type": "code",
      "metadata": {
        "cellId": "glhka1y6bx7gpvns6ar74f",
        "id": "_xPEZzIUDN9T"
      },
      "source": [
        "%matplotlib inline\n",
        "import matplotlib.pyplot as plt"
      ],
      "execution_count": 98,
      "outputs": []
    },
    {
      "cell_type": "markdown",
      "metadata": {
        "cellId": "lhwrkcqbw9qhm8u7k1adg7",
        "id": "68qXQTCkDN9U"
      },
      "source": [
        "#### 8. [0.5 балла] Постройте график средних рейтингов по дням получения ответов (bar plot)."
      ]
    },
    {
      "cell_type": "code",
      "metadata": {
        "cellId": "eg1cfv4l2lmpljsy93qv7a",
        "id": "g1frghizDN9U"
      },
      "source": [
        "import matplotlib as mpl\n",
        "import seaborn as sns\n",
        "%config InlineBackend.figure_format = 'retina'\n",
        "plt.rcParams['figure.figsize'] = 8, 5\n",
        "plt.rcParams['font.size'] = 12\n",
        "mpl.rcParams['savefig.format'] = 'pdf'\n",
        "sns.set_style('darkgrid')"
      ],
      "execution_count": 99,
      "outputs": []
    },
    {
      "cell_type": "code",
      "metadata": {
        "colab": {
          "base_uri": "https://localhost:8080/"
        },
        "id": "RqC5-fAqWJMK",
        "outputId": "bd1c374c-6732-4f00-d592-875d0d76b120"
      },
      "source": [
        "storage = df.groupby(df['timestamp'].dt.date)['rating']\n",
        "plotValues = storage.mean()\n",
        "plotValues"
      ],
      "execution_count": 100,
      "outputs": [
        {
          "output_type": "execute_result",
          "data": {
            "text/plain": [
              "timestamp\n",
              "2020-05-14    1160.277778\n",
              "2020-05-15     719.866667\n",
              "2020-05-16     736.400000\n",
              "2020-05-17     915.027027\n",
              "2020-05-18     827.352679\n",
              "2020-05-19     761.142857\n",
              "2020-05-20     689.500000\n",
              "2020-05-21     584.000000\n",
              "2020-05-23    1080.500000\n",
              "2020-05-24     670.500000\n",
              "Name: rating, dtype: float64"
            ]
          },
          "metadata": {},
          "execution_count": 100
        }
      ]
    },
    {
      "cell_type": "code",
      "metadata": {
        "colab": {
          "base_uri": "https://localhost:8080/",
          "height": 355
        },
        "id": "UXZRVnsOXnno",
        "outputId": "ba09ede7-b738-4710-8907-e4fb9059ce07"
      },
      "source": [
        "# https://stackoverflow.com/questions/9622163/save-plot-to-image-file-instead-of-displaying-it-using-matplotlib - сохранение посмотрел здесь\n",
        "valuesX = plotValues.keys()\n",
        "valuesY = plotValues.values\n",
        "\n",
        "\n",
        "fig, ax = plt.subplots()\n",
        "\n",
        "# по оси Х отметки дат влезли не все, это можно пофиксить увеличив весь график или повернув надписи на 90 градусов, но так тоже норм, я думаю\n",
        "plt.bar(valuesX, valuesY)\n",
        "\n",
        "plt.title('Средний рейтинг по дням получения ответов')\n",
        "plt.xlabel('день получения ответа')\n",
        "plt.ylabel('средний рейтинг')\n",
        "\n",
        "plt.show()"
      ],
      "execution_count": 101,
      "outputs": [
        {
          "output_type": "display_data",
          "data": {
            "image/png": "[encoded data removed]",
            "text/plain": [
              "<Figure size 576x360 with 1 Axes>"
            ]
          },
          "metadata": {
            "image/png": {
              "width": 514,
              "height": 338
            }
          }
        }
      ]
    },
    {
      "cell_type": "markdown",
      "metadata": {
        "cellId": "rt6c2b31n1k0al4riilv0t",
        "id": "HDCoxu-rDN9U"
      },
      "source": [
        "Сохраните график в формате pdf (так он останется векторизованным)."
      ]
    },
    {
      "cell_type": "code",
      "metadata": {
        "cellId": "6561gzq26ry7dphm6nauz3",
        "id": "K9UDOlsEDN9U"
      },
      "source": [
        "fig.savefig('barplot_avg_rate_BY_subm_day.pdf')"
      ],
      "execution_count": 102,
      "outputs": []
    },
    {
      "cell_type": "markdown",
      "metadata": {
        "cellId": "qu7gnpcouet99b2ypyqlj",
        "id": "OT3PmEiVDN9U"
      },
      "source": [
        "Еще одна билиотека для визуализации: [seaborn](https://jakevdp.github.io/PythonDataScienceHandbook/04.14-visualization-with-seaborn.html). Это настройка над matplotlib, иногда удобнее и красивее делать визуализации через неё. "
      ]
    },
    {
      "cell_type": "markdown",
      "metadata": {
        "cellId": "mlsy8h9ksycq37aq84acyl",
        "id": "5z6uxczXDN9U"
      },
      "source": [
        "### 2. Распределение студентов по курсам."
      ]
    },
    {
      "cell_type": "markdown",
      "metadata": {
        "cellId": "c6p0bc3i8id1lg9cuyxez5",
        "id": "hseKHsIlDN9V"
      },
      "source": [
        "Теперь вам нужно распределить студентов по осенним курсам по выбору, учитывая их предпочтения."
      ]
    },
    {
      "cell_type": "markdown",
      "metadata": {
        "cellId": "qc5bpqmu9vd7ac4k2kif9",
        "id": "Otz1GjHSDN9V"
      },
      "source": [
        "Алгоритм распределения студентов по курсам:\n",
        "1. По умолчанию на каждой дисциплине по выбору у 3 и 4 курсов может учиться 1 группа (до 30 студентов). Исключения описаны ниже. На blended-дисциплинах для четверокурсников количество мест не ограничено.\n",
        "2. Проводится первая волна отбора. Для каждой дисциплины формируется список тех, кто указал её первым приоритетом (если студент должен выбрать два курса по выбору, то для него дисциплины, которые он указал первым и вторым приоритетом, рассматриваются как дисциплины первого приоритета). Если желающих больше, чем мест, то выбирается топ по перцентилю рейтинга.\n",
        "3. На дисциплинах, где остались места после первой волны, формируются списки тех, кто выбрал их вторым приоритетом, и места заполняются лучшими по перцентили рейтинга студентами. После этого проводится такая же процедура для дисциплин третьего приоритета.\n",
        "4. Если студент не попал на необходимое количество курсов по итогам трёх волн, с ним связывается учебный офис и решает вопрос в индивидуальном порядке."
      ]
    },
    {
      "cell_type": "markdown",
      "metadata": {
        "cellId": "d7zbp6o4puqf6g28jf3rtv",
        "id": "ocRHHi2CDN9V"
      },
      "source": [
        "Обращаем ваше внимание на следующие детали:\n",
        "\n",
        "- По умолчанию студент выбирает один осенний и один весенний курс по выбору, а также четверокурсники выбирают один blended-курс. Студенты групп 17-го года специализаций МОП и ТИ выбирают по 2 осенних и 2 весенних курса по выбору, также студенты групп 18' специализации МИ выбирают 2 осенних курса. <i>Для студентов, которые выбирают 2 курса (например, осенних) первый приоритет — <code>fall_1</code> и <code>fall_2</code>, второй приоритет — <code>fall_3</code>. Такие студенты участвуют только в двух волнах отбора</i>.\n",
        "\n",
        "- Студенты специализации МОП не могут выбрать весенним курсом по выбору Машинное обучение 2. <i>Если студент специализации МОП выбрал Машинное обучение 2, то его приоритеты сдвигаются. Из-за совпадений первого и второго курса по выбору двигать приоритеты не надо</i>.\n",
        "\n",
        "- Blended-курсы не трогайте, по ним не надо распределять, на другие курсы они никак не влияют.\n",
        "\n",
        "- Постарайтесь воздержаться от использования циклов там, где это возможно. <i>Допустимо итерироваться по <b>курсам</b>, на которые проводится отбор, и по <b>волнам</b> отбора. Если вы придумаете, как обойтись и без этих циклов, то на усмотрение проверяющего могут быть добавлены бонусные баллы. <b>Дублирование кода не признается успешным избавлением от циклов</b></i>\n",
        "\n",
        "- На выходе ожидается файл res_fall.csv с результатами распределения на осенние курсы по выбору. Файл должен быть следующего формата:\n",
        "\n",
        "    * три столбца: ID, course1, course2\n",
        "    \n",
        "    * Если студент не попал на курс, но должен был, то вместо названия курса в ячейке должна быть строка \"???\"\n",
        "    \n",
        "    * Если студент должен выбрать только один курс, то в колонке course2 для него должна стоять строка \"-\"\n",
        "    \n",
        "    * Если студент должен выбрать два курса по выбору, то порядок в колонках course1 и course2 не важен.\n",
        "    \n",
        "    * Формат csv: для сохранения воспользуйтесь df.to_csv('solution.csv', index=None)\n",
        "    \n",
        "\n",
        "Для работы вам могут понадобиться следующие данные:\n",
        "\n",
        "- Результаты опроса (вы уже использовали этот файл в первой части задания, но на всякий случай ссылка: https://www.dropbox.com/s/f4rm8sjc3v99p0m/_end_seminar.xlsx?dl=0)\n",
        "\n",
        "- Соответствие номеров групп специализациям:\n",
        "\n",
        "    * 171, 172 - МОП; 173 - ТИ; 174 — АДИС; 175, 176 — РС; 177 — АПР\n",
        "    \n",
        "    * У студентов 18-го года номера групп соответствуют номерам до распределения по специализациям.\n",
        "\n",
        "- Ограничения по количеству мест на курсах по выбору:\n",
        "\n",
        "    * Осенние: везде 30 мест, кроме Statistical Learning Theory (60 мест), Высокопроизводительных вычислений (60 мест), Анализа неструктурированных данных ($\\infty$ мест)\n",
        "\n",
        "    * Весенние: везде 30 мест, кроме Обучения с подкреплением (60 мест), Анализа данных в бизнесе (60 мест).\n",
        "\n",
        "\n",
        "Кстати, убедитесь, что в данных больше нет пропусков и повторных записей."
      ]
    },
    {
      "cell_type": "markdown",
      "metadata": {
        "cellId": "af6di907kpvou8qyk8fqc",
        "id": "l_oXrN6TDN9V"
      },
      "source": [
        "#### 0. Проверка\n",
        "\n",
        "Для начала давайте убедимся, что вы успешно выполнили задания первой части и проверим ваши данные на наличие пропусков и повторов:"
      ]
    },
    {
      "cell_type": "code",
      "metadata": {
        "cellId": "dxn2ti2feup5fj3qoytos",
        "id": "ivaoJWDSDN9V"
      },
      "source": [
        "### загружаем файлик и немного фильтруем\n",
        "df = pd.read_excel('end_seminar.xlsx')\n",
        "\n",
        "dict_for_nan = {\"17_group\" : 0, \"18_group\" : 0, \"is_mi\" : 0, \"is_ml_student\" : 0, \"is_first_time\" : \"\", \"blended\" : \"\"}\n",
        "df = df.fillna(value=dict_for_nan)\n",
        "\n",
        "df.sort_values(\"timestamp\").reset_index()\n",
        "df = df.drop_duplicates(subset=[\"id\"], keep=\"last\")\n",
        "\n",
        "# проставляем кол-во курсов для студентов\n",
        "df['opt_course_qnt'] = df.apply(lambda curRow: 2 if curRow[\"is_mi\"] == 1 or 0 < curRow[\"17_group\"] <= 173 else 1, axis=1)\n",
        "\n",
        "# проставляем дефолтные метки\n",
        "df['first_course'] = '-'\n",
        "df['second_course'] = '-'"
      ],
      "execution_count": 106,
      "outputs": []
    },
    {
      "cell_type": "code",
      "metadata": {
        "id": "AbvKk90iRPPe"
      },
      "source": [
        "# сортим по перцентилю\n",
        "df.sort_values(\"percentile\", inplace=True)"
      ],
      "execution_count": 107,
      "outputs": []
    },
    {
      "cell_type": "code",
      "metadata": {
        "id": "Ip8ZjrjFRkVw"
      },
      "source": [
        "assert df.shape[0] == 347, 'В таблице остались повторы или потеряны данные'\n",
        "\n",
        "assert df.isna().sum().sum() == 0, 'В таблице остались пропуски'"
      ],
      "execution_count": 108,
      "outputs": []
    },
    {
      "cell_type": "markdown",
      "metadata": {
        "cellId": "g6y65mboq9shbv5k3azi7b",
        "id": "nGkEG_ajDN9W"
      },
      "source": [
        "Если вы не получили AssertionError, то можете продолжать."
      ]
    },
    {
      "cell_type": "markdown",
      "metadata": {
        "cellId": "zr0p2c9betq4adssd77n67",
        "id": "oRnDn3PxDN9W"
      },
      "source": [
        "#### 1. [1 балл] Создайте новый признак, обозначающий, сколько осенних курсов должен выбрать студент\n",
        "\n",
        "В этом вам может помочь информация о специализации и группе стундента."
      ]
    },
    {
      "cell_type": "markdown",
      "metadata": {
        "cellId": "axdj88b18fbmcyjhfsr20m",
        "id": "sgDZ2BSNDN9W"
      },
      "source": [
        "Проверка:"
      ]
    },
    {
      "cell_type": "code",
      "metadata": {
        "cellId": "ihfkcfgofoa9yrmow6mli5",
        "id": "2Nr6OgxHDN9W"
      },
      "source": [
        "# уже создал этот признак в предыдущем блоке\n",
        "\n",
        "col_name = 'opt_course_qnt'    # insert your new column name as str\n",
        "\n",
        "assert(df[df['id'] == '2662600c2c37e11e62f6ee0b88452f22'][col_name] == 2).all()\n",
        "assert(df[df['id'] == 'd555d2805e1d93d4f023e57dc4c8f403'][col_name] == 2).all()\n",
        "assert(df[df['id'] == '8fe79f84f36e3a5d2d6745621321302c'][col_name] == 1).all()\n",
        "assert(df[df['id'] == 'e4caca755ee0bdd711e18fb8084958b5'][col_name] == 1).all()"
      ],
      "execution_count": 112,
      "outputs": []
    },
    {
      "cell_type": "markdown",
      "metadata": {
        "cellId": "n4d0d20f0etofueox92r",
        "id": "g_a9WWEODN9W"
      },
      "source": [
        "#### 2. [2 балла] Распределите студентов в соответствии с первым приоритетом"
      ]
    },
    {
      "cell_type": "code",
      "metadata": {
        "cellId": "v0v3vwp8cls3x5hjj1qev9",
        "colab": {
          "base_uri": "https://localhost:8080/"
        },
        "id": "QtdGuufgDN9W",
        "outputId": "3506203c-822d-4441-ed98-e80e94fe1a01"
      },
      "source": [
        "# (￣^￣)ゞ\n",
        "# https://numpy.org/doc/stable/reference/generated/numpy.ravel.html - смотрел пару примеров здесь\n",
        "autumn_courses_storage = set(pd.unique(df[['fall_1', 'fall_2', 'fall_3']].values.ravel()))\n",
        "autumn_courses_storage"
      ],
      "execution_count": 113,
      "outputs": [
        {
          "output_type": "execute_result",
          "data": {
            "text/plain": [
              "{'Statistical Learning Theory',\n",
              " 'Анализ неструктурированных данных',\n",
              " 'Байесовские методы машинного обучения',\n",
              " 'Безопасность компьютерных систем',\n",
              " 'Высокопроизводительные вычисления',\n",
              " 'Глубинное обучение в обработке звука',\n",
              " 'Матричные вычисления',\n",
              " 'Моделирование временных рядов',\n",
              " 'Принятие решений в условиях риска и неопределённости',\n",
              " 'Сбор и обработка данных с помощью краудсорсинга',\n",
              " 'Теория баз данных',\n",
              " 'Язык SQL'}"
            ]
          },
          "metadata": {},
          "execution_count": 113
        }
      ]
    },
    {
      "cell_type": "code",
      "metadata": {
        "id": "7GADGplkvSEg"
      },
      "source": [
        "# посортируем всех по перцентилю\n",
        "df = df.sort_values(by='percentile').reset_index()"
      ],
      "execution_count": 114,
      "outputs": []
    },
    {
      "cell_type": "code",
      "metadata": {
        "id": "urJqt7e67xIu"
      },
      "source": [
        "# будем сразу решать для осени и весны :)\n",
        "courses_storage = {i:30 for i in autumn_courses_storage}\n",
        "\n",
        "courses_storage[\"Statistical Learning Theory\"] = 60\n",
        "courses_storage[\"Высокопроизводительные вычисления\"] = 60\n",
        "courses_storage[\"Анализ неструктурированных данных\"] = 1e9\n",
        "courses_storage[\"Обучение с подкреплением\"] = 60\n",
        "courses_storage[\"Анализ данных в бизнесе\"] = 60\n",
        "\n",
        "first_percentile, last_percentile = {cur_course : 100 for cur_course in courses_storage}, {cur_course : 0 for cur_course in courses_storage}\n",
        "\n",
        "\n",
        "def generate_distribution(input_data, cur_iter_ind, course_storage, first_percentile, last_percentile, autumn):\n",
        "    cur_ind = cur_iter_ind\n",
        "    two_wave = \"\"\n",
        "    if cur_iter_ind == 1:\n",
        "        if autumn:\n",
        "            two_wave = [\"fall_1\", \"fall_2\"]\n",
        "        else:\n",
        "            two_wave = [\"spring_1\", \"spring_2\"]\n",
        "    else:\n",
        "        if autumn:\n",
        "            two_wave = [\"fall_3\"]\n",
        "        else:\n",
        "            two_wave = [\"spring_3\"]\n",
        "\n",
        "    if autumn:\n",
        "        cur_iter_ind = \"fall_\" + str(cur_iter_ind)\n",
        "    else:\n",
        "        cur_iter_ind = \"spring_\" + str(cur_iter_ind)\n",
        "\n",
        "    for index, i in input_data.iterrows():\n",
        "        if ((i[\"is_mi\"] and autumn) or (173 >= i[\"17_group\"] > 0)):\n",
        "            if cur_ind == 3:\n",
        "                continue\n",
        "            for w in two_wave:\n",
        "                if input_data.loc[index, 'opt_course_qnt'] > 0 and course_storage[input_data.loc[index, w]] > 0:\n",
        "                    if input_data.loc[index, 'first_course'] == '-':\n",
        "                        input_data.loc[index, 'first_course'] = input_data.loc[index, w]\n",
        "                        first_percentile[input_data.loc[index, w]] = min(first_percentile[input_data.loc[index, w]], input_data.loc[index, \"percentile\"])\n",
        "                        last_percentile[input_data.loc[index, w]] = max(last_percentile[input_data.loc[index, w]], input_data.loc[index, \"percentile\"])\n",
        "                    else:\n",
        "                        if input_data.loc[index, 'first_course'] == input_data.loc[index, w]:\n",
        "                            continue\n",
        "                        input_data.loc[index, 'second_course'] = input_data.loc[index, w]\n",
        "                        first_percentile[input_data.loc[index, w]] = min(first_percentile[input_data.loc[index, w]], input_data.loc[index, \"percentile\"])\n",
        "                        last_percentile[input_data.loc[index, w]] = max(last_percentile[input_data.loc[index, cur_iter_ind]], input_data.loc[index, \"percentile\"])\n",
        "                    input_data.loc[index, 'opt_course_qnt'] -= 1\n",
        "                    course_storage[input_data.loc[index, w]] -= 1\n",
        "        else:\n",
        "            if input_data.loc[index, 'opt_course_qnt'] > 0 and course_storage[input_data.loc[index, cur_iter_ind]] > 0:\n",
        "                input_data.loc[index, 'first_course'] = input_data.loc[index, cur_iter_ind]\n",
        "                first_percentile[input_data.loc[index, cur_iter_ind]] = min(first_percentile[input_data.loc[index, cur_iter_ind]], input_data.loc[index, \"percentile\"])\n",
        "                last_percentile[input_data.loc[index, cur_iter_ind]] = max(last_percentile[input_data.loc[index, cur_iter_ind]], input_data.loc[index, \"percentile\"])\n",
        "                input_data.loc[index, 'opt_course_qnt'] -= 1\n",
        "                course_storage[input_data.loc[index, cur_iter_ind]] -= 1\n",
        "    return input_data, course_storage, first_percentile, last_percentile\n",
        "\n",
        "df, courses_storage, first_percentile, last_percentile = generate_distribution(df, 1, courses_storage, first_percentile, last_percentile, 1)"
      ],
      "execution_count": 115,
      "outputs": []
    },
    {
      "cell_type": "markdown",
      "metadata": {
        "cellId": "mfbh5dtx4hie51g94v3ex6",
        "id": "88iWhdHaDN9X"
      },
      "source": [
        "Здесь для проверки приведена таблица, в которой есть 2 дополнительные колонки:\n",
        "    \n",
        "    1) is_first_place - является ли студент лучшим по перцентили хотя бы на одном из курсов, куда он был зачислен \n",
        "    (True / NaN)\n",
        "    \n",
        "    2) is_last_place  - является ли студент худшим по перцентили хотя бы на одном из курсов, куда он был зачислен (True / NaN)"
      ]
    },
    {
      "cell_type": "code",
      "metadata": {
        "cellId": "ziokaigt8alixtya619x",
        "id": "HhAL1xR4DN9X"
      },
      "source": [
        "!wget  -O '2_task_check.csv' -q 'https://www.dropbox.com/s/v8o2zzq3iz5gc9w/_2_task_check.csv?dl=0'\n",
        "check_df = pd.read_csv('2_task_check.csv')"
      ],
      "execution_count": 120,
      "outputs": []
    },
    {
      "cell_type": "markdown",
      "metadata": {
        "cellId": "rn9dbqm5sxanohvpl53ta",
        "id": "R5-QBL0hDN9X"
      },
      "source": [
        "После распределения студентов в соответствии с первым приоритетом добавьте в свой датафрейм аналогичные признаки и запустите проверку:"
      ]
    },
    {
      "cell_type": "code",
      "metadata": {
        "id": "-Rs1QRLq2ffL"
      },
      "source": [
        "df['first_course'] = df['first_course'].fillna(\"\")\n",
        "df['second_course'] = df['second_course'].fillna(\"\")"
      ],
      "execution_count": 121,
      "outputs": []
    },
    {
      "cell_type": "code",
      "metadata": {
        "id": "9Mm1UcKGBCBB"
      },
      "source": [
        "import math\n",
        "def mapperFirstP(x):\n",
        "    if x['first_course'] != '-' and x['first_course'] != '' and first_percentile[x['first_course']] == x['percentile']:\n",
        "      return True \n",
        "    elif x['second_course'] != '-' and x['second_course'] != '' and x['second_course'] != '-' and first_percentile[x['second_course']] == x['percentile']:\n",
        "      return True\n",
        "    else:\n",
        "      return float('nan')\n",
        "\n",
        "def mapperLastP(x):\n",
        "  if x['first_course'] != '-' and x['first_course'] != '' and last_percentile[x['first_course']] == x['percentile']:\n",
        "      return True \n",
        "  elif x['second_course'] != '-' and x['second_course'] != '' and x['second_course'] != '-' and last_percentile[x['second_course']] == x['percentile']:\n",
        "      return True\n",
        "  else:\n",
        "      return float('nan')\n",
        "\n",
        "df['first_percentile_student'] = df.apply(mapperFirstP, axis=1)\n",
        "df['last_percentile_student'] = df.apply(mapperLastP, axis=1)"
      ],
      "execution_count": 122,
      "outputs": []
    },
    {
      "cell_type": "code",
      "metadata": {
        "cellId": "5d5fe4lrvpgtp1eimthapd",
        "id": "S2nuXfpcDN9X"
      },
      "source": [
        "fir_col_name = 'first_percentile_student'     # insert name of your new column with is_first_place as str\n",
        "last_col_name = 'last_percentile_student'    # insert name of your new column with is_last_place as str\n",
        "\n",
        "\n",
        "assert((df[df[fir_col_name].isna() == False][['id']].sort_values('id').reset_index(drop=True)\n",
        "        ==\n",
        "        check_df[check_df['is_first_place'].isna() == False][['id']].sort_values('id').reset_index(drop=True)\n",
        "       ).id.values).all()\n",
        "\n",
        "assert((df[df[last_col_name].isna() == False][['id']].sort_values('id').reset_index(drop=True)\n",
        "       == \n",
        "       check_df[check_df['is_last_place'].isna() == False][['id']].sort_values('id').reset_index(drop=True)\n",
        "      ).id.values).all()"
      ],
      "execution_count": 123,
      "outputs": []
    },
    {
      "cell_type": "markdown",
      "metadata": {
        "cellId": "mz8ngus5kqhx961gf87yca",
        "id": "fCiHfKCKDN9X"
      },
      "source": [
        "#### 3. [3 балла] Проведите все три волны отбора студентов на курсы по выбору"
      ]
    },
    {
      "cell_type": "code",
      "metadata": {
        "cellId": "sith18syx6gbzlrkurh5bq",
        "id": "cBJAWqkgDN9X"
      },
      "source": [
        "# можем просто передать в нашу функцию номер волны и все)) не зря я 2 дня дебажил эту функцию..\n",
        "df, courses_storage, first_percentile, last_percentile = generate_distribution(df, 2, courses_storage, first_percentile, last_percentile, 1)\n",
        "df, courses_storage, first_percentile, last_percentile = generate_distribution(df, 3, courses_storage, first_percentile, last_percentile, 1)"
      ],
      "execution_count": 126,
      "outputs": []
    },
    {
      "cell_type": "code",
      "metadata": {
        "id": "xr1htVlYIwSd"
      },
      "source": [
        "autumn_df = df[['id', 'first_course', 'second_course', 'is_mi', '17_group']].copy()\n",
        "autumn_df[\"first_course\"] = autumn_df.apply(lambda x: x['first_course'] if x['first_course'] != '-' else \"???\", axis=1)\n",
        "autumn_df[\"second_course\"] = autumn_df.apply(lambda x: \"???\" if (x[\"is_mi\"]  or (173 >= x[\"17_group\"] > 0)) and x['second_course'] == '-' else x['second_course'], axis=1)\n",
        "autumn_df = autumn_df[[\"id\", \"first_course\", \"second_course\"]]\n",
        "autumn_df.rename(columns={'id' : \"ID\", \"first_course\" : \"course1\", \"second_course\" : \"course2\"}, inplace=True)\n",
        "autumn_df.to_csv('res_fall.csv', index=None, sep=',')"
      ],
      "execution_count": 127,
      "outputs": []
    },
    {
      "cell_type": "markdown",
      "metadata": {
        "cellId": "u6sugrafdt8g5t5g3cor7",
        "id": "gxA4bs5jDN9Y"
      },
      "source": [
        "**Отправьте свой файл res_fall.csv в контест (https://contest.yandex.ru/contest/29176/problems/A/) и прикрепите/укажите ниже ваш никнейм и ссылку на успешную посылку.**"
      ]
    },
    {
      "cell_type": "code",
      "metadata": {
        "id": "bzyByzelJcX-"
      },
      "source": [
        "# Успешная посылка: https://contest.yandex.ru/contest/29176/run-report/53626659/\n",
        "# Никнейм: eldardamirov75"
      ],
      "execution_count": 68,
      "outputs": []
    },
    {
      "cell_type": "markdown",
      "metadata": {
        "cellId": "lkbinqnb3aj2g1toor59",
        "id": "yzMxvpZPDN9Y"
      },
      "source": [
        "*Дисклеймер:*\n",
        "\n",
        "Контест выдаётся для самопроверки. Если ваша посылка получила ОК, то код, скорее всего, правильный. Но при этом оценка всё равно может быть снижена в случае обнаружения неэффективностей или ошибок в коде. Если вы сдадите в AnyTask очевидно неработающий код или ноутбук без кода, но при этом в контест будет сдан корректный файл, то это будет расцениваться как плагиат."
      ]
    },
    {
      "cell_type": "markdown",
      "metadata": {
        "cellId": "3cc73y6zsuhvolzy9phjt",
        "id": "3PqoE48oDN9Y"
      },
      "source": [
        "На всякий случай просим вас сдать вместе с ноутбуком файл res_fall.csv в anytask"
      ]
    },
    {
      "cell_type": "markdown",
      "metadata": {
        "cellId": "tieikq2kp3jovjkcass7t",
        "id": "8Ge29guyDN9Y"
      },
      "source": [
        "**Дополнительное задание. [2 бонусных балла] Распределите таким же образом студентов еще и на весенние курсы по выбору.**\n",
        "\n",
        "Если ваш код был хорошо структурирован, то это не составит проблем. \n",
        "\n",
        "Если вы выполнили это задание, сдайте среди прочего файл res_spring.csv в таком же формате, как и res_fall.csv."
      ]
    },
    {
      "cell_type": "code",
      "metadata": {
        "cellId": "6nnl671q6svoojgrux2yg",
        "id": "62byYoy8DN9Y"
      },
      "source": [
        "# (￣^'￣)ゞ\n",
        "import pandas as pd\n",
        "df = pd.read_excel('end_seminar.xlsx')\n",
        "# повторяем всю предварительную фильтрацию;\n",
        "dict_for_nan = {\"17_group\" : 0, \"18_group\" : 0, \"is_mi\" : 0, \"is_ml_student\" : 0, \"is_first_time\" : \"\", \"blended\" : \"\"}\n",
        "df = df.fillna(value=dict_for_nan)\n",
        "\n",
        "df.sort_values(\"timestamp\").reset_index()\n",
        "df = df.drop_duplicates(subset=[\"id\"], keep=\"last\")\n",
        "\n",
        "df['opt_course_qnt'] = df.apply(lambda x: 2 if 0 < x[\"17_group\"] <= 173 else 1, axis=1)\n",
        "\n",
        "df['first_course'] = '-'\n",
        "df['second_course'] = '-'\n",
        "\n",
        "df.sort_values(\"percentile\", inplace=True)\n",
        "\n",
        "spring_courses_storage = set(pd.unique(df[['spring_1', 'spring_2', 'spring_3']].values.ravel())) - set([''])\n",
        "spring_courses_storage\n",
        "\n",
        "courses_storage = {curCourse : 30 for curCourse in spring_courses_storage}\n",
        "\n",
        "courses_storage[\"-\"] = 0 \n",
        "courses_storage[\"Обучение с подкреплением\"] = 60\n",
        "courses_storage[\"Анализ данных в бизнесе\"] = 60\n",
        "\n",
        "first_percentile, last_percentile = {cur_course : 100 for cur_course in courses_storage}, {cur_course : 0 for cur_course in courses_storage}\n",
        "\n",
        "\n",
        "df['spring_1'] = df.apply(lambda x: \"-\" if x['is_ml_student'] == 1 and x['spring_1'] == 'Машинное обучение 2' else x['spring_1'], axis=1)\n",
        "df['spring_2'] = df.apply(lambda x: \"-\" if x['is_ml_student'] == 1 and x['spring_2'] == 'Машинное обучение 2' else x['spring_2'], axis=1)\n",
        "df['spring_3'] = df.apply(lambda x: \"-\" if x['is_ml_student'] == 1 and x['spring_3'] == 'Машинное обучение 2' else x['spring_3'], axis=1)"
      ],
      "execution_count": 138,
      "outputs": []
    },
    {
      "cell_type": "code",
      "metadata": {
        "id": "uQ2DD9oLTVN3"
      },
      "source": [
        "for index, i in df.iterrows():\n",
        "\tif df.loc[index, \"spring_2\"] == \"-\":\n",
        "\t\tdf.loc[index, \"spring_2\"], df.loc[index, \"spring_3\"] = df.loc[index, \"spring_3\"], df.loc[index, \"spring_3\"]\n",
        "\tif df.loc[index, \"spring_1\"] == \"-\":\n",
        "\t\tdf.loc[index, \"spring_1\"], df.loc[index, \"spring_2\"], df.loc[index, \"spring_3\"] = df.loc[index, \"spring_2\"], df.loc[index, \"spring_3\"], df.loc[index, \"spring_3\"]"
      ],
      "execution_count": 139,
      "outputs": []
    },
    {
      "cell_type": "code",
      "metadata": {
        "id": "gxQzczGIKdgV"
      },
      "source": [
        "df, courses_storage, first_percentile, last_percentile = generate_distribution(df, 1, courses_storage, first_percentile, last_percentile, 0)\n",
        "df, courses_storage, first_percentile, last_percentile = generate_distribution(df, 2, courses_storage, first_percentile, last_percentile, 0)\n",
        "df, courses_storage, first_percentile, last_percentile = generate_distribution(df, 3, courses_storage, first_percentile, last_percentile, 0)"
      ],
      "execution_count": 140,
      "outputs": []
    },
    {
      "cell_type": "code",
      "metadata": {
        "id": "B_JrAURaEl2B"
      },
      "source": [
        "spring = df[['id', 'first_course', 'second_course', 'is_mi', '17_group']].copy()\n",
        "spring[\"first_course\"] = spring.apply(lambda curRow: curRow['first_course'] if curRow['first_course'] != '-' else \"???\", axis=1)\n",
        "spring[\"second_course\"] = spring.apply(lambda curRow: \"???\" if 173 >= curRow[\"17_group\"] > 0 and curRow['second_course'] == '-' else curRow['second_course'], axis=1)\n",
        "\n",
        "spring = spring[[\"id\", \"first_course\", \"second_course\"]]\n",
        "spring.rename(columns={'id' : \"ID\", \"first_course\" : \"course1\", \"second_course\" : \"course2\"}, inplace=True)\n",
        "spring.to_csv('res_spring.csv', index=None, sep=',')"
      ],
      "execution_count": 141,
      "outputs": []
    },
    {
      "cell_type": "markdown",
      "metadata": {
        "cellId": "ue28n096jt8qhrpk3i7ta",
        "id": "5W7kd90FDN9Y"
      },
      "source": [
        "**Отправьте свой файл res_spring.csv в контест (https://contest.yandex.ru/contest/29176/problems/B/) и прикрепите/укажите ниже ваш никнейм и ссылку на успешную посылку.**"
      ]
    },
    {
      "cell_type": "code",
      "metadata": {
        "id": "-KLG-SehPGzV"
      },
      "source": [
        "# https://contest.yandex.ru/contest/29176/run-report/53662128/ eldardamirov75"
      ],
      "execution_count": 67,
      "outputs": []
    },
    {
      "cell_type": "markdown",
      "metadata": {
        "cellId": "zekpi7vonkockyyud2vhd",
        "id": "_VEX4WtZDN9Y"
      },
      "source": [
        "На всякий случай просим вас сдать вместе с ноутбуком файл res_spring.csv в anytask"
      ]
    },
    {
      "cell_type": "markdown",
      "metadata": {
        "cellId": "bnjin79iowoqamp54x9d",
        "id": "YMAyU_dbDN9Y"
      },
      "source": [
        "Вставьте картинку, описывающую ваш опыт выполнения этого задания:"
      ]
    },
    {
      "cell_type": "code",
      "metadata": {
        "cellId": "lm9u3p6lehzmcp7kf5b3",
        "id": "zQOX2OFqDN9Z"
      },
      "source": [
        "# Tired :("
      ],
      "execution_count": 66,
      "outputs": []
    },
    {
      "cell_type": "code",
      "metadata": {
        "id": "Xtii5Zw6PCwA"
      },
      "source": [
        ""
      ],
      "execution_count": null,
      "outputs": []
    }
  ]
}